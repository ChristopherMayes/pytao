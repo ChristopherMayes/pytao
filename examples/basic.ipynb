{
 "cells": [
  {
   "cell_type": "markdown",
   "metadata": {},
   "source": [
    "# PyTao basic usage"
   ]
  },
  {
   "cell_type": "code",
   "execution_count": 1,
   "metadata": {},
   "outputs": [],
   "source": [
    "# Useful for debugging\n",
    "%load_ext autoreload\n",
    "%autoreload 2"
   ]
  },
  {
   "cell_type": "code",
   "execution_count": 2,
   "metadata": {},
   "outputs": [
    {
     "name": "stdout",
     "output_type": "stream",
     "text": [
      "Populating the interactive namespace from numpy and matplotlib\n"
     ]
    }
   ],
   "source": [
    "%pylab --no-import-all inline\n",
    "%config InlineBackend.figure_format = 'retina'"
   ]
  },
  {
   "cell_type": "code",
   "execution_count": 3,
   "metadata": {},
   "outputs": [],
   "source": [
    "from pytao import Tao"
   ]
  },
  {
   "cell_type": "markdown",
   "metadata": {},
   "source": [
    "## Inititialize Tao"
   ]
  },
  {
   "cell_type": "code",
   "execution_count": 4,
   "metadata": {},
   "outputs": [],
   "source": [
    "tao=Tao('-init $ACC_ROOT_DIR/tao/examples/cesr/tao.init -noplot')   "
   ]
  },
  {
   "cell_type": "markdown",
   "metadata": {},
   "source": [
    "## Send a command"
   ]
  },
  {
   "cell_type": "code",
   "execution_count": 5,
   "metadata": {},
   "outputs": [
    {
     "data": {
      "text/plain": [
       "['# Values shown are for the Exit End of each Element:',\n",
       " '# Index  name          key                       s       l    beta   phi_a    eta   orbit    beta   phi_b    eta   orbit   Track',\n",
       " '#                                                                a   [2pi]      x  x [mm]       b   [2pi]      y  y [mm]   State',\n",
       " '      1  IP_L0         Marker                0.000   0.000    0.95   0.000  -0.00  -0.017    0.02   0.000   0.00   0.001   Alive',\n",
       " '      2  CLEO_SOL#3    Solenoid              0.622   0.622    1.34   0.093  -0.02   1.470   21.81   0.244   0.00   0.041   Alive',\n",
       " '      3  DET_00W       Marker                0.622   0.000    1.34   0.093  -0.02   1.470   21.81   0.244   0.00   0.041   Alive',\n",
       " '      4  CLEO_SOL#4    Solenoid              0.638   0.016    1.37   0.094  -0.02   1.507   22.92   0.244   0.00   0.043   Alive',\n",
       " '      5  Q00W\\\\CLEO_SOL Sol_Quad              1.755   1.117    7.73   0.160  -0.09   5.505   88.01   0.247  -0.01   0.486   Alive',\n",
       " '      6  Q00W#1        Quadrupole            2.163   0.408   15.96   0.166  -0.13   8.150   76.38   0.248  -0.01   0.717   Alive',\n",
       " '      7  D003          Drift                 2.493   0.331   27.03   0.169  -0.17  10.704   60.26   0.249  -0.02   0.931   Alive',\n",
       " '      8  DET_01W       Marker                2.493   0.000   27.03   0.169  -0.17  10.704   60.26   0.249  -0.02   0.931   Alive',\n",
       " '      9  D004          Drift                 2.924   0.431   45.79   0.171  -0.22  14.029   42.13   0.250  -0.02   1.209   Alive',\n",
       " '     10  Q01W          Quadrupole            3.874   0.950   66.94   0.173  -0.26  16.849   28.95   0.255  -0.02   1.212   Alive',\n",
       " '# Index  name          key                       s       l    beta   phi_a    eta   orbit    beta   phi_b    eta   orbit   Track',\n",
       " '#                                                                a   [2pi]      x  x [mm]       b   [2pi]      y  y [mm]   State',\n",
       " '# Values shown are for the Exit End of each Element:']"
      ]
     },
     "execution_count": 5,
     "metadata": {},
     "output_type": "execute_result"
    }
   ],
   "source": [
    "# Tao command\n",
    "tao.cmd('sho lat 1:10')"
   ]
  },
  {
   "cell_type": "markdown",
   "metadata": {},
   "source": [
    "## Jupyter magic %%tao"
   ]
  },
  {
   "cell_type": "markdown",
   "metadata": {},
   "source": [
    "This is an alternative way to send commands to Tao directly in the jupyter notebook, using the %%tao magic. Multiple lines can be executed."
   ]
  },
  {
   "cell_type": "code",
   "execution_count": 6,
   "metadata": {},
   "outputs": [
    {
     "name": "stdout",
     "output_type": "stream",
     "text": [
      "-------------------------\n",
      "Tao> sho lat 1:10\n",
      "# Values shown are for the Exit End of each Element:\n",
      "# Index  name          key                       s       l    beta   phi_a    eta   orbit    beta   phi_b    eta   orbit   Track\n",
      "#                                                                a   [2pi]      x  x [mm]       b   [2pi]      y  y [mm]   State\n",
      "      1  IP_L0         Marker                0.000   0.000    0.95   0.000  -0.00  -0.017    0.02   0.000   0.00   0.001   Alive\n",
      "      2  CLEO_SOL#3    Solenoid              0.622   0.622    1.34   0.093  -0.02   1.470   21.81   0.244   0.00   0.041   Alive\n",
      "      3  DET_00W       Marker                0.622   0.000    1.34   0.093  -0.02   1.470   21.81   0.244   0.00   0.041   Alive\n",
      "      4  CLEO_SOL#4    Solenoid              0.638   0.016    1.37   0.094  -0.02   1.507   22.92   0.244   0.00   0.043   Alive\n",
      "      5  Q00W\\CLEO_SOL Sol_Quad              1.755   1.117    7.73   0.160  -0.09   5.505   88.01   0.247  -0.01   0.486   Alive\n",
      "      6  Q00W#1        Quadrupole            2.163   0.408   15.96   0.166  -0.13   8.150   76.38   0.248  -0.01   0.717   Alive\n",
      "      7  D003          Drift                 2.493   0.331   27.03   0.169  -0.17  10.704   60.26   0.249  -0.02   0.931   Alive\n",
      "      8  DET_01W       Marker                2.493   0.000   27.03   0.169  -0.17  10.704   60.26   0.249  -0.02   0.931   Alive\n",
      "      9  D004          Drift                 2.924   0.431   45.79   0.171  -0.22  14.029   42.13   0.250  -0.02   1.209   Alive\n",
      "     10  Q01W          Quadrupole            3.874   0.950   66.94   0.173  -0.26  16.849   28.95   0.255  -0.02   1.212   Alive\n",
      "# Index  name          key                       s       l    beta   phi_a    eta   orbit    beta   phi_b    eta   orbit   Track\n",
      "#                                                                a   [2pi]      x  x [mm]       b   [2pi]      y  y [mm]   State\n",
      "# Values shown are for the Exit End of each Element:\n",
      "-------------------------\n",
      "Tao> sho ele 4\n",
      "Element # 4\n",
      "Element Name: CLEO_SOL#4\n",
      "Key: Solenoid\n",
      "S_start, S:      0.622301,      0.637956\n",
      "Ref_time:  2.127992E-09\n",
      "\n",
      "Attribute values [Only non-zero values shown]:\n",
      "    1  L                           =  1.5655000E-02 m        31  L_SOFT_EDGE                 =  0.0000000E+00 m\n",
      "    3  R_SOLENOID                  =  0.0000000E+00 m\n",
      "    5  KS                          = -8.5023386E-02 1/m      49  BS_FIELD                    =  1.5000000E+00 T\n",
      "   10  FRINGE_TYPE                 =  None (1)               11  FRINGE_AT                   =  No_End (4)\n",
      "   13  SPIN_FRINGE_ON              =  T (1)\n",
      "   47  PTC_CANONICAL_COORDS        =  T (1)\n",
      "   50  DELTA_REF_TIME              =  5.2219459E-11 sec\n",
      "   53  P0C                         =  5.2890000E+09 eV           BETA                        =  1.0000000E+00\n",
      "   54  E_TOT                       =  5.2890000E+09 eV           GAMMA                       =  1.0350315E+04\n",
      "   65  INTEGRATOR_ORDER            = 0\n",
      "   67  DS_STEP                     =  2.0000000E-01 m        66  NUM_STEPS                   = 1\n",
      "   68  CSR_DS_STEP                 =  0.0000000E+00 m\n",
      "\n",
      "       TRACKING_METHOD              =  Bmad_Standard             APERTURE_AT                =  Exit_End\n",
      "       MAT6_CALC_METHOD             =  Bmad_Standard             APERTURE_TYPE              =  Rectangular\n",
      "       SPIN_TRACKING_METHOD         =  Tracking                  OFFSET_MOVES_APERTURE      =  F\n",
      "       PTC_INTEGRATION_TYPE         =  Matrix_Kick               SYMPLECTIFY                =  F\n",
      "       CSR_METHOD                   =  Off                       FIELD_MASTER               =  F\n",
      "       SPACE_CHARGE_METHOD          =  Off                       LONGITUDINAL ORIENTATION   =       1\n",
      "       FIELD_CALC                   =  Refer_to_Lords.\n",
      "\n",
      "Slave_status: Super_Slave\n",
      "Associated Super_Lord(s):\n",
      "   Index   Name                             Type\n",
      "     872   CLEO_SOL                         Solenoid\n",
      "\n",
      "Lord_status:  Not_a_Lord\n",
      "\n",
      "Twiss at end of element:\n",
      "                          A              B            Cbar                        C_mat\n",
      "  Beta (m)         1.36514029    22.91900799  |  -0.11411117   0.00651400     -0.08489082   0.03643629\n",
      "  Alpha           -0.65686453   -35.87984339  |  -0.16218057   0.00347911     -0.09215803   0.03178740\n",
      "  Gamma (1/m)      1.04858894    56.21374023  |   Gamma_c =   0.99967023       Mode_Flip = F\n",
      "  Phi (rad)        0.59345801     1.53313012            X              Y              Z\n",
      "  Eta (m)         -0.02445852     0.00058099    -0.02454806     0.00008318     0.00005366\n",
      "  Etap            -0.03499518    -0.00132514    -0.03507931    -0.00204142     1.00000000\n",
      "\n",
      "Orbit:  Electron   State: Alive\n",
      "         Position[mm] Momentum[mrad]        Spin   |\n",
      "  X:       1.50687846     2.38754979               | t_particle [sec]:        2.12799824E-09  E_tot: 5.28900E+09\n",
      "  Y:       0.04306828     0.06652991               | t_part-t_ref [sec]:      6.07406930E-15  PC:    5.28900E+09\n",
      "  Z:      -0.00182096     0.00000000               | (t_ref-t_part)*Vel [m]: -1.82096016E-06  Beta:  0.999999995\n",
      "-------------------------\n",
      "Tao> \n"
     ]
    }
   ],
   "source": [
    "%%tao\n",
    "sho lat 1:10\n",
    "sho ele 4"
   ]
  },
  {
   "cell_type": "markdown",
   "metadata": {},
   "source": [
    "## Interface commands\n",
    "\n",
    "Tao has a special set of commands to send back data suitable for parsing in Python.\n",
    "\n",
    "Below are the raw commands. "
   ]
  },
  {
   "cell_type": "code",
   "execution_count": 7,
   "metadata": {},
   "outputs": [
    {
     "name": "stdout",
     "output_type": "stream",
     "text": [
      "-------------------------\n",
      "Tao> help python\n",
      "The \"python\" command is like the \"show\" command in that the \"python\" command prints\n",
      "information to the terminal. The difference is that the output from the \"show\" command is meant\n",
      "for viewing by the user while the output of the \"python\" command is meant for easy\n",
      "parsing. Format:\n",
      "  python {-append <file_name>} {-noprint} <what_to_print>\n",
      "  python {-write <file_name>} {-noprint} <what_to_print>\n",
      "\n",
      "The \"python\" command has \"-append\" and \"-write\" optional arguments which can be used to\n",
      "write the results to a file. The \"python -append\" command will appended to the output file. The\n",
      "\"python -write\" command will first erase the contents of the output file. Example:\n",
      "  python -write d2.dat data_d2    ! Write to file \"d2.dat\"\n",
      "\n",
      "The \"-noprint\" option suppresses printing and is useful when writing large amounts of data to a\n",
      "file.  The \"python\" command can be used to pass information to a parent process when Tao is run\n",
      "as a subprocess.  The parent process may be any scripting program like Python, Perl, Tcl, etc.  In\n",
      "particular, see the \"Python/GUI Interface\" chapter  for details on how to run\n",
      "Tao as a Python subprocess.\n",
      "\n",
      "In terms of long term maintainability, the advantage of using the \"python\" command in the scripts\n",
      "over the \"show\" command comes from the fact that the output syntax of \"show\" commands can (and\n",
      "does) change.\n",
      "\n",
      "For further documentation on the python command and interfacing to python is in Chapter~.\n",
      "\n",
      "Documentation on interfacing Python scripts to Tao's python command is given in\n",
      "section~.\n",
      "\n",
      "List of possible \"<what_to_print>\" choices:\n",
      "  beam, beam_init, branch1, bunch1, bmad_com, building_wall_list, building_wall_graph,\n",
      "  building_wall_point, building_wall_section, constraints, da_params, da_aperture,\n",
      "  data, data_d2_create, data_d2_destroy, data_d_array, data_d1_array, data_d2,\n",
      "  data_d2_array, data_set_design_value, datum_create, datum_has_ele, derivative,\n",
      "  ele:head, ele:gen_attribs, ele:multipoles, ele:elec_multipoles, ele:ac_kicker,\n",
      "  ele:cartesian_map, ele:chamber_wall, ele:cylindrical_map, ele:orbit, ele:taylor,\n",
      "  ele:spin_taylor, ele:wake, ele:wall3d, ele:twiss, ele:methods, ele:control,\n",
      "  ele:mat6, ele:taylor_field, ele:grid_field, ele:floor, ele:photon, ele:lord_slave,\n",
      "  em_field, enum, evaluate, floor_plan, floor_orbit, global, help, inum,\n",
      "  lat_calc_done, lat_ele_list, lat_general, lat_list, lat_param_units,\n",
      "  merit, orbit_at_s, place_buffer, plot_curve, plot_graph, plot_histogram,\n",
      "  plot_lat_layout, plot_line, plot_plot_manage, plot_graph_manage, plot_curve_manage,\n",
      "  plot_list, plot_symbol, plot_transfer, plot1, shape_list, shape_manage,\n",
      "  shape_pattern_list, shape_pattern_manage, shape_pattern_point_manage, shape_set,\n",
      "  show, species_to_int, species_to_str, spin_polarization, super_universe, twiss_at_s,\n",
      "  universe, var_v1_create, var_v1_destroy, var_create, var_general, var_v1_array,\n",
      "  var_v_array, var, wave\n",
      "\n",
      "-------------------------\n",
      "Tao> \n"
     ]
    }
   ],
   "source": [
    "%%tao\n",
    "help python"
   ]
  },
  {
   "cell_type": "code",
   "execution_count": 8,
   "metadata": {},
   "outputs": [
    {
     "data": {
      "text/plain": [
       "['x;REAL;F;  3.10850440781991E-03',\n",
       " 'px;REAL;F;  3.44527312067471E-03',\n",
       " 'y;REAL;F;  1.82012763910055E-04',\n",
       " 'py;REAL;F;  2.48182856267115E-04',\n",
       " 'z;REAL;F; -4.14752375352584E-06',\n",
       " 'pz;REAL;F;  0.00000000000000E+00',\n",
       " 'spin;REAL_ARR;F;  0.00000000000000E+00;  0.00000000000000E+00;  0.00000000000000E+00',\n",
       " 'field;REAL_ARR;F;  0.00000000000000E+00;  0.00000000000000E+00',\n",
       " 'phase;REAL_ARR;F;  0.00000000000000E+00;  0.00000000000000E+00',\n",
       " 's;REAL;F;  1.20000000000000E+00',\n",
       " 't;REAL;F;  4.00278299570997E-09',\n",
       " 'charge;REAL;F;  0.00000000000000E+00',\n",
       " 'path_len;REAL;F; -3.05694190664077E-18',\n",
       " 'p0c;REAL;F;  5.28899997531481E+09',\n",
       " 'beta;REAL;F;  9.99999995332730E-01',\n",
       " 'ix_ele;INT;F;5',\n",
       " 'state;STR;F;Alive',\n",
       " 'direction;INT;F;1',\n",
       " 'species;SPECIES;F;Electron',\n",
       " 'location;STR;F;Inside']"
      ]
     },
     "execution_count": 8,
     "metadata": {},
     "output_type": "execute_result"
    }
   ],
   "source": [
    "# This data is returned as specially formatted lists\n",
    "tao.cmd('python orbit_at_s 1@0>>1.2|model')"
   ]
  },
  {
   "cell_type": "code",
   "execution_count": 9,
   "metadata": {},
   "outputs": [
    {
     "data": {
      "text/plain": [
       "[]"
      ]
     },
     "execution_count": 9,
     "metadata": {},
     "output_type": "execute_result"
    }
   ],
   "source": [
    "# Some commands have 'array_out' options. For example, this seems to return nothing:\n",
    "tao.cmd('python lat_list -array_out 1@0>>Q*|model orbit.floor.x')"
   ]
  },
  {
   "cell_type": "code",
   "execution_count": 10,
   "metadata": {},
   "outputs": [
    {
     "data": {
      "text/plain": [
       "array([ 0.00000000e+00,  5.45237551e-03,  8.07258498e-03,  1.66182326e-02,\n",
       "        1.27387380e-02, -1.28472105e-01, -6.17359843e-01, -1.63572345e+00,\n",
       "       -3.15359937e+00, -4.96007282e+00, -8.44393546e+00, -1.25353179e+01,\n",
       "       -1.53643067e+01, -1.93160734e+01, -2.35334264e+01, -2.86595986e+01,\n",
       "       -3.40012176e+01, -4.11157621e+01, -4.73379294e+01, -5.39309752e+01,\n",
       "       -6.08761196e+01, -6.66395241e+01, -7.38887317e+01, -8.14004743e+01,\n",
       "       -8.91380363e+01, -9.70602472e+01, -1.07067449e+02, -1.15219117e+02,\n",
       "       -1.23415239e+02, -1.31835984e+02, -1.39984609e+02, -1.48267476e+02,\n",
       "       -1.57243537e+02, -1.65204343e+02, -1.72728171e+02, -1.80184454e+02,\n",
       "       -1.85357667e+02, -1.92035953e+02, -2.00803308e+02, -2.06870816e+02,\n",
       "       -2.12665472e+02, -2.18176446e+02, -2.23048903e+02, -2.27424223e+02,\n",
       "       -2.31268371e+02, -2.34552365e+02, -2.35722795e+02, -2.38140782e+02,\n",
       "       -2.39786197e+02, -2.41460799e+02, -2.42244503e+02, -2.42601929e+02,\n",
       "       -2.42642700e+02, -2.42650644e+02, -2.42653710e+02, -2.42654862e+02,\n",
       "       -2.42659288e+02, -2.42665724e+02, -2.42598208e+02, -2.42184677e+02,\n",
       "       -2.41366884e+02, -2.39606411e+02, -2.37970189e+02, -2.35481975e+02,\n",
       "       -2.34317767e+02, -2.30993059e+02, -2.27125243e+02, -2.22727572e+02,\n",
       "       -2.17816014e+02, -2.12280155e+02, -2.06437560e+02, -2.00332922e+02,\n",
       "       -1.91531579e+02, -1.84820360e+02, -1.79653415e+02, -1.72176815e+02,\n",
       "       -1.64644379e+02, -1.56674258e+02, -1.47685976e+02, -1.39396228e+02,\n",
       "       -1.31238484e+02, -1.22815238e+02, -1.14621366e+02, -1.06478604e+02,\n",
       "       -9.64783765e+01, -8.85696775e+01, -8.08418039e+01, -7.33402313e+01,\n",
       "       -6.61118631e+01, -6.03400179e+01, -5.34245420e+01, -4.68515824e+01,\n",
       "       -4.06754290e+01, -3.36162811e+01, -2.82979311e+01, -2.32077226e+01,\n",
       "       -1.88775779e+01, -1.50782459e+01, -1.22578003e+01, -8.16224594e+00,\n",
       "       -4.68316592e+00, -2.92444850e+00, -1.48688761e+00, -5.48016680e-01,\n",
       "       -1.20823085e-01, -1.35569881e-02, -1.39261143e-02,  1.91718062e-06,\n",
       "       -5.50234769e-03, -1.53076310e-03])"
      ]
     },
     "execution_count": 10,
     "metadata": {},
     "output_type": "execute_result"
    }
   ],
   "source": [
    "# But calling `.cmd_real` on the same command will get the data from an internal pointer:\n",
    "tao.cmd_real('python lat_list -array_out 1@0>>Q*|model orbit.floor.x')"
   ]
  },
  {
   "cell_type": "markdown",
   "metadata": {},
   "source": [
    "# Tao method commands\n",
    "\n",
    "For convenience, all of these commands are available as methods of the Tao class, and automatically parse the output."
   ]
  },
  {
   "cell_type": "code",
   "execution_count": 11,
   "metadata": {},
   "outputs": [
    {
     "data": {
      "text/plain": [
       "\u001b[0;31mSignature:\u001b[0m\n",
       "\u001b[0mtao\u001b[0m\u001b[0;34m.\u001b[0m\u001b[0morbit_at_s\u001b[0m\u001b[0;34m(\u001b[0m\u001b[0;34m\u001b[0m\n",
       "\u001b[0;34m\u001b[0m    \u001b[0ms\u001b[0m\u001b[0;34m,\u001b[0m\u001b[0;34m\u001b[0m\n",
       "\u001b[0;34m\u001b[0m    \u001b[0;34m*\u001b[0m\u001b[0;34m,\u001b[0m\u001b[0;34m\u001b[0m\n",
       "\u001b[0;34m\u001b[0m    \u001b[0mix_uni\u001b[0m\u001b[0;34m=\u001b[0m\u001b[0;34m'1'\u001b[0m\u001b[0;34m,\u001b[0m\u001b[0;34m\u001b[0m\n",
       "\u001b[0;34m\u001b[0m    \u001b[0mix_branch\u001b[0m\u001b[0;34m=\u001b[0m\u001b[0;34m'0'\u001b[0m\u001b[0;34m,\u001b[0m\u001b[0;34m\u001b[0m\n",
       "\u001b[0;34m\u001b[0m    \u001b[0mwhich\u001b[0m\u001b[0;34m=\u001b[0m\u001b[0;34m'model'\u001b[0m\u001b[0;34m,\u001b[0m\u001b[0;34m\u001b[0m\n",
       "\u001b[0;34m\u001b[0m    \u001b[0mverbose\u001b[0m\u001b[0;34m=\u001b[0m\u001b[0;32mFalse\u001b[0m\u001b[0;34m,\u001b[0m\u001b[0;34m\u001b[0m\n",
       "\u001b[0;34m\u001b[0m    \u001b[0mas_dict\u001b[0m\u001b[0;34m=\u001b[0m\u001b[0;32mTrue\u001b[0m\u001b[0;34m,\u001b[0m\u001b[0;34m\u001b[0m\n",
       "\u001b[0;34m\u001b[0m\u001b[0;34m)\u001b[0m\u001b[0;34m\u001b[0m\u001b[0;34m\u001b[0m\u001b[0m\n",
       "\u001b[0;31mDocstring:\u001b[0m\n",
       "Twiss at given s position.\n",
       "\n",
       "Parameters\n",
       "----------\n",
       "s\n",
       "ix_uni : default=1\n",
       "ix_branch : default=0\n",
       "which : default=model\n",
       "\n",
       "Returns\n",
       "-------\n",
       "string_list\n",
       "\n",
       "Notes\n",
       "-----\n",
       "Command syntax:\n",
       "  python orbit_at_s {ix_uni}@{ix_branch}>>{s}|{which}\n",
       "where:\n",
       "  {which} is one of:\n",
       "    model\n",
       "    base\n",
       "    design\n",
       "  {s} is the longitudinal s-position.\n",
       "\n",
       "Examples\n",
       "--------\n",
       "Example: 1\n",
       " init: $ACC_ROOT_DIR/tao/examples/cesr/tao.init\n",
       " args:\n",
       "   ix_uni: 1\n",
       "   ix_branch: 0\n",
       "   s: 0.001\n",
       "   which: model\n",
       "\u001b[0;31mFile:\u001b[0m      ~/Code/GitHub/pytao/pytao/interface_commands.py\n",
       "\u001b[0;31mType:\u001b[0m      method\n"
      ]
     },
     "metadata": {},
     "output_type": "display_data"
    }
   ],
   "source": [
    "?tao.orbit_at_s"
   ]
  },
  {
   "cell_type": "code",
   "execution_count": 12,
   "metadata": {},
   "outputs": [
    {
     "data": {
      "text/plain": [
       "{'x': 0.00310850440781991,\n",
       " 'px': 0.00344527312067471,\n",
       " 'y': 0.000182012763910055,\n",
       " 'py': 0.000248182856267115,\n",
       " 'z': -4.14752375352584e-06,\n",
       " 'pz': 0.0,\n",
       " 'spin': array([0., 0., 0.]),\n",
       " 'field': array([0., 0.]),\n",
       " 'phase': array([0., 0.]),\n",
       " 's': 1.2,\n",
       " 't': 4.00278299570997e-09,\n",
       " 'charge': 0.0,\n",
       " 'path_len': -3.05694190664077e-18,\n",
       " 'p0c': 5288999975.31481,\n",
       " 'beta': 0.99999999533273,\n",
       " 'ix_ele': 5,\n",
       " 'state': 'Alive',\n",
       " 'direction': 1,\n",
       " 'species': 'Electron',\n",
       " 'location': 'Inside'}"
      ]
     },
     "execution_count": 12,
     "metadata": {},
     "output_type": "execute_result"
    }
   ],
   "source": [
    "tao.orbit_at_s(1.2)"
   ]
  },
  {
   "cell_type": "code",
   "execution_count": 13,
   "metadata": {},
   "outputs": [
    {
     "data": {
      "text/plain": [
       "\u001b[0;31mSignature:\u001b[0m\n",
       "\u001b[0mtao\u001b[0m\u001b[0;34m.\u001b[0m\u001b[0mevaluate\u001b[0m\u001b[0;34m(\u001b[0m\u001b[0;34m\u001b[0m\n",
       "\u001b[0;34m\u001b[0m    \u001b[0mexpression\u001b[0m\u001b[0;34m,\u001b[0m\u001b[0;34m\u001b[0m\n",
       "\u001b[0;34m\u001b[0m    \u001b[0;34m*\u001b[0m\u001b[0;34m,\u001b[0m\u001b[0;34m\u001b[0m\n",
       "\u001b[0;34m\u001b[0m    \u001b[0mflags\u001b[0m\u001b[0;34m=\u001b[0m\u001b[0;34m'-array_out'\u001b[0m\u001b[0;34m,\u001b[0m\u001b[0;34m\u001b[0m\n",
       "\u001b[0;34m\u001b[0m    \u001b[0mverbose\u001b[0m\u001b[0;34m=\u001b[0m\u001b[0;32mFalse\u001b[0m\u001b[0;34m,\u001b[0m\u001b[0;34m\u001b[0m\n",
       "\u001b[0;34m\u001b[0m    \u001b[0mas_dict\u001b[0m\u001b[0;34m=\u001b[0m\u001b[0;32mTrue\u001b[0m\u001b[0;34m,\u001b[0m\u001b[0;34m\u001b[0m\n",
       "\u001b[0;34m\u001b[0m\u001b[0;34m)\u001b[0m\u001b[0;34m\u001b[0m\u001b[0;34m\u001b[0m\u001b[0m\n",
       "\u001b[0;31mDocstring:\u001b[0m\n",
       "Evaluate an expression. The result may be a vector.\n",
       "\n",
       "Parameters\n",
       "----------\n",
       "expression\n",
       "flags : default=-array_out\n",
       "    If -array_out, the output will be available in the tao_c_interface_com%c_real.!\n",
       "\n",
       "Returns\n",
       "-------\n",
       "string_list\n",
       "    if '-array_out' not in flags\n",
       "real_array\n",
       "    if '-array_out' in flags\n",
       "\n",
       "Notes\n",
       "-----\n",
       "Command syntax:\n",
       "  python evaluate {flags} {expression}\n",
       "\n",
       "Example:\n",
       "  python evaluate data::cbar.11[1:10]|model\n",
       "\n",
       "Examples\n",
       "--------\n",
       "Example: 1\n",
       " init: $ACC_ROOT_DIR/tao/examples/cesr/tao.init\n",
       " args:\n",
       "   expression: data::cbar.11[1:10]|model\n",
       "\u001b[0;31mFile:\u001b[0m      ~/Code/GitHub/pytao/pytao/interface_commands.py\n",
       "\u001b[0;31mType:\u001b[0m      method\n"
      ]
     },
     "metadata": {},
     "output_type": "display_data"
    }
   ],
   "source": [
    "# Some commands can return arrays\n",
    "?tao.evaluate"
   ]
  },
  {
   "cell_type": "code",
   "execution_count": 14,
   "metadata": {},
   "outputs": [
    {
     "data": {
      "text/plain": [
       "array([ 2.81317783e-03, -1.06788243e-03,  1.24836279e-04,  2.78779776e-04,\n",
       "       -3.53083324e-04, -3.27169567e-04,  2.98082509e-06,  1.28860214e-03,\n",
       "        2.66493906e-03,  2.68642691e-03])"
      ]
     },
     "execution_count": 14,
     "metadata": {},
     "output_type": "execute_result"
    }
   ],
   "source": [
    "tao.evaluate('data::cbar.11[1:10]|model')"
   ]
  },
  {
   "cell_type": "markdown",
   "metadata": {},
   "source": [
    "## lat_list\n",
    "\n",
    "`lat_list` can be used to efficiently extract array data"
   ]
  },
  {
   "cell_type": "code",
   "execution_count": 15,
   "metadata": {},
   "outputs": [
    {
     "data": {
      "text/plain": [
       "\u001b[0;31mSignature:\u001b[0m\n",
       "\u001b[0mtao\u001b[0m\u001b[0;34m.\u001b[0m\u001b[0mlat_list\u001b[0m\u001b[0;34m(\u001b[0m\u001b[0;34m\u001b[0m\n",
       "\u001b[0;34m\u001b[0m    \u001b[0melements\u001b[0m\u001b[0;34m,\u001b[0m\u001b[0;34m\u001b[0m\n",
       "\u001b[0;34m\u001b[0m    \u001b[0mwho\u001b[0m\u001b[0;34m,\u001b[0m\u001b[0;34m\u001b[0m\n",
       "\u001b[0;34m\u001b[0m    \u001b[0;34m*\u001b[0m\u001b[0;34m,\u001b[0m\u001b[0;34m\u001b[0m\n",
       "\u001b[0;34m\u001b[0m    \u001b[0mix_uni\u001b[0m\u001b[0;34m=\u001b[0m\u001b[0;34m'1'\u001b[0m\u001b[0;34m,\u001b[0m\u001b[0;34m\u001b[0m\n",
       "\u001b[0;34m\u001b[0m    \u001b[0mix_branch\u001b[0m\u001b[0;34m=\u001b[0m\u001b[0;34m'0'\u001b[0m\u001b[0;34m,\u001b[0m\u001b[0;34m\u001b[0m\n",
       "\u001b[0;34m\u001b[0m    \u001b[0mwhich\u001b[0m\u001b[0;34m=\u001b[0m\u001b[0;34m'model'\u001b[0m\u001b[0;34m,\u001b[0m\u001b[0;34m\u001b[0m\n",
       "\u001b[0;34m\u001b[0m    \u001b[0mflags\u001b[0m\u001b[0;34m=\u001b[0m\u001b[0;34m'-array_out -track_only'\u001b[0m\u001b[0;34m,\u001b[0m\u001b[0;34m\u001b[0m\n",
       "\u001b[0;34m\u001b[0m    \u001b[0mverbose\u001b[0m\u001b[0;34m=\u001b[0m\u001b[0;32mFalse\u001b[0m\u001b[0;34m,\u001b[0m\u001b[0;34m\u001b[0m\n",
       "\u001b[0;34m\u001b[0m    \u001b[0mas_dict\u001b[0m\u001b[0;34m=\u001b[0m\u001b[0;32mTrue\u001b[0m\u001b[0;34m,\u001b[0m\u001b[0;34m\u001b[0m\n",
       "\u001b[0;34m\u001b[0m\u001b[0;34m)\u001b[0m\u001b[0;34m\u001b[0m\u001b[0;34m\u001b[0m\u001b[0m\n",
       "\u001b[0;31mDocstring:\u001b[0m\n",
       "List of parameters at ends of lattice elements\n",
       "\n",
       "Parameters\n",
       "----------\n",
       "elements\n",
       "who\n",
       "ix_uni : default=1\n",
       "ix_branch : default=0\n",
       "which : default=model\n",
       "flags : optional, default=-array_out -track_only\n",
       "\n",
       "Returns\n",
       "-------\n",
       "string_list\n",
       "    if ('-array_out' not in flags) or (who in ['ele.name'])\n",
       "real_array\n",
       "    if ('-array_out' in flags or 'real:' in who) and (who not in ['orbit.state'])\n",
       "integer_array\n",
       "    if '-array_out' in flags and who in ['orbit.state']\n",
       "\n",
       "Notes\n",
       "-----\n",
       "Command syntax:\n",
       "  python lat_list {flags} {ix_uni}@{ix_branch}>>{elements}|{which} {who}\n",
       "where:\n",
       " Optional {flags} are:\n",
       "  -no_slaves : If present, multipass_slave and super_slave elements will not be matched to.\n",
       "  -track_only : If present, lord elements will not be matched to.\n",
       "  -index_order : If present, order elements by element index instead of the standard s-position.\n",
       "  -array_out : If present, the output will be available in the tao_c_interface_com%c_real or\n",
       "    tao_c_interface_com%c_integer arrays. See the code below for when %c_real vs %c_integer is used.\n",
       "    Note: Only a single {who} item permitted when -array_out is present.\n",
       "\n",
       "  {which} is one of:\n",
       "    model\n",
       "    base\n",
       "    design\n",
       "\n",
       "  {who} is a comma deliminated list of:\n",
       "    orbit.floor.x, orbit.floor.y, orbit.floor.z    ! Floor coords at particle orbit.\n",
       "    orbit.spin.1, orbit.spin.2, orbit.spin.3,\n",
       "    orbit.vec.1, orbit.vec.2, orbit.vec.3, orbit.vec.4, orbit.vec.5, orbit.vec.6,\n",
       "    orbit.t, orbit.beta,\n",
       "    orbit.state,     ! Note: state is an integer. alive$ = 1, anything else is lost.\n",
       "    orbit.energy, orbit.pc,\n",
       "    ele.name, ele.ix_ele, ele.ix_branch\n",
       "    ele.a.beta, ele.a.alpha, ele.a.eta, ele.a.etap, ele.a.gamma, ele.a.phi,\n",
       "    ele.b.beta, ele.b.alpha, ele.b.eta, ele.b.etap, ele.b.gamma, ele.b.phi,\n",
       "    ele.x.eta, ele.x.etap,\n",
       "    ele.y.eta, ele.y.etap,\n",
       "    ele.s, ele.l\n",
       "    ele.e_tot, ele.p0c\n",
       "    ele.mat6, ele.vec0\n",
       "\n",
       "  {elements} is a string to match element names to.\n",
       "    Use \"*\" to match to all elements.\n",
       "\n",
       "Examples:\n",
       "  python lat_list -track 3@0>>Q*|base ele.s,orbit.vec.2\n",
       "  python lat_list 3@0>>Q*|base real:ele.s    \n",
       "\n",
       "Note: vector layout of mat6(6,6) is: [mat6(1,:), mat6(2,:), ...mat6(6,:)]\n",
       "\n",
       "Examples\n",
       "--------\n",
       "Example: 1\n",
       " init: $ACC_ROOT_DIR/tao/examples/cesr/tao.init\n",
       " args:\n",
       "   ix_uni: 1  \n",
       "   ix_branch: 0 \n",
       "   elements: Q* \n",
       "   which: model\n",
       "   who: orbit.floor.x\n",
       "\u001b[0;31mFile:\u001b[0m      ~/Code/GitHub/pytao/pytao/interface_commands.py\n",
       "\u001b[0;31mType:\u001b[0m      method\n"
      ]
     },
     "metadata": {},
     "output_type": "display_data"
    }
   ],
   "source": [
    "?tao.lat_list"
   ]
  },
  {
   "cell_type": "code",
   "execution_count": 16,
   "metadata": {},
   "outputs": [
    {
     "name": "stdout",
     "output_type": "stream",
     "text": [
      "python lat_list -array_out -track_only 1@0>>*|model ele.s\n"
     ]
    },
    {
     "data": {
      "text/plain": [
       "array([0.      , 0.      , 0.622301, 0.622301, 0.637956])"
      ]
     },
     "execution_count": 16,
     "metadata": {},
     "output_type": "execute_result"
    }
   ],
   "source": [
    "# By detault this returns an array of floats\n",
    "s = tao.lat_list('*', 'ele.s', verbose=True)\n",
    "s[0:5]"
   ]
  },
  {
   "cell_type": "code",
   "execution_count": 17,
   "metadata": {},
   "outputs": [
    {
     "data": {
      "text/plain": [
       "dtype('<i4')"
      ]
     },
     "execution_count": 17,
     "metadata": {},
     "output_type": "execute_result"
    }
   ],
   "source": [
    "# One particular key will return integers\n",
    "state = tao.lat_list('*', 'orbit.state')\n",
    "state.dtype"
   ]
  },
  {
   "cell_type": "code",
   "execution_count": 18,
   "metadata": {},
   "outputs": [
    {
     "name": "stdout",
     "output_type": "stream",
     "text": [
      "Failed to parse string data. Returning raw value. Exception was:  not enough values to unpack (expected 3, got 1)\n"
     ]
    },
    {
     "data": {
      "text/plain": [
       "['BEGINNING', 'IP_L0', 'CLEO_SOL#3', 'DET_00W', 'CLEO_SOL#4']"
      ]
     },
     "execution_count": 18,
     "metadata": {},
     "output_type": "execute_result"
    }
   ],
   "source": [
    "# And this one will return a list of strings\n",
    "names = tao.lat_list('*', 'ele.name')\n",
    "names[0:5]"
   ]
  },
  {
   "cell_type": "code",
   "execution_count": 19,
   "metadata": {},
   "outputs": [
    {
     "data": {
      "text/plain": [
       "[<matplotlib.lines.Line2D at 0x15ea26fd0>]"
      ]
     },
     "execution_count": 19,
     "metadata": {},
     "output_type": "execute_result"
    },
    {
     "data": {
      "image/png": "[encoded data removed]",
      "text/plain": [
       "<Figure size 432x288 with 1 Axes>"
      ]
     },
     "metadata": {
      "image/png": {
       "height": 248,
       "width": 400
      },
      "needs_background": "light"
     },
     "output_type": "display_data"
    }
   ],
   "source": [
    "# Simple plot of this data\n",
    "plt.plot(\n",
    "    tao.lat_list('*', 'ele.s'),\n",
    "    tao.lat_list('*', 'orbit.vec.1'),\n",
    "    marker='.'\n",
    ")"
   ]
  },
  {
   "cell_type": "code",
   "execution_count": 20,
   "metadata": {},
   "outputs": [
    {
     "data": {
      "text/plain": [
       "[<matplotlib.lines.Line2D at 0x15eb36190>]"
      ]
     },
     "execution_count": 20,
     "metadata": {},
     "output_type": "execute_result"
    },
    {
     "data": {
      "image/png": "[encoded data removed]",
      "text/plain": [
       "<Figure size 432x288 with 1 Axes>"
      ]
     },
     "metadata": {
      "image/png": {
       "height": 250,
       "width": 375
      },
      "needs_background": "light"
     },
     "output_type": "display_data"
    }
   ],
   "source": [
    "# Be careful with the flags. The defaults are:\n",
    "plt.plot(tao.lat_list('*', 'ele.s', flags='-array_out -track_only'))"
   ]
  },
  {
   "cell_type": "code",
   "execution_count": 21,
   "metadata": {},
   "outputs": [
    {
     "data": {
      "text/plain": [
       "[<matplotlib.lines.Line2D at 0x15eb9ad30>]"
      ]
     },
     "execution_count": 21,
     "metadata": {},
     "output_type": "execute_result"
    },
    {
     "data": {
      "image/png": "[encoded data removed]",
      "text/plain": [
       "<Figure size 432x288 with 1 Axes>"
      ]
     },
     "metadata": {
      "image/png": {
       "height": 250,
       "width": 375
      },
      "needs_background": "light"
     },
     "output_type": "display_data"
    }
   ],
   "source": [
    "# -index_order will return\n",
    "plt.plot(tao.lat_list('*', 'ele.s', flags='-array_out -index_order'))"
   ]
  },
  {
   "cell_type": "markdown",
   "metadata": {},
   "source": [
    "# All method commands\n",
    "\n",
    "There are many method commands. Please explore the documentation to find the ones that will best suit your needs."
   ]
  },
  {
   "cell_type": "code",
   "execution_count": 22,
   "metadata": {},
   "outputs": [
    {
     "name": "stdout",
     "output_type": "stream",
     "text": [
      "['beam', 'beam_init', 'bmad_com', 'branch1', 'building_wall_graph', 'building_wall_list', 'building_wall_point', 'building_wall_section', 'bunch1', 'constraints', 'da_aperture', 'da_params', 'data', 'data_d1_array', 'data_d2', 'data_d2_array', 'data_d2_create', 'data_d2_destroy', 'data_d_array', 'data_parameter', 'data_set_design_value', 'datum_create', 'datum_has_ele', 'derivative', 'ele_ac_kicker', 'ele_cartesian_map', 'ele_chamber_wall', 'ele_control', 'ele_cylindrical_map', 'ele_elec_multipoles', 'ele_floor', 'ele_gen_attribs', 'ele_grid_field', 'ele_head', 'ele_lord_slave', 'ele_mat6', 'ele_methods', 'ele_multipoles', 'ele_orbit', 'ele_photon', 'ele_spin_taylor', 'ele_taylor', 'ele_taylor_field', 'ele_twiss', 'ele_wake', 'ele_wall3d', 'em_field', 'enum', 'evaluate', 'floor_orbit', 'floor_plan', 'help', 'inum', 'lat_calc_done', 'lat_ele_list', 'lat_general', 'lat_list', 'lat_param_units', 'matrix', 'merit', 'orbit_at_s', 'parse_tao_python_data', 'place_buffer', 'plot1', 'plot_curve', 'plot_curve_manage', 'plot_graph', 'plot_graph_manage', 'plot_histogram', 'plot_lat_layout', 'plot_line', 'plot_list', 'plot_plot_manage', 'plot_symbol', 'plot_transfer', 'shape_list', 'shape_manage', 'shape_pattern_list', 'shape_pattern_manage', 'shape_pattern_point_manage', 'shape_set', 'show', 'species_to_int', 'species_to_str', 'spin_polarization', 'super_universe', 'tao_global', 'tao_parameter_dict', 'twiss_at_s', 'universe', 'var', 'var_create', 'var_general', 'var_v1_array', 'var_v1_create', 'var_v1_destroy', 'var_v_array', 'wave']\n"
     ]
    }
   ],
   "source": [
    "from pytao import interface_commands\n",
    "all_cmds = [name for name in dir(interface_commands) if not name.startswith('__')]\n",
    "print(all_cmds)"
   ]
  },
  {
   "cell_type": "code",
   "execution_count": 23,
   "metadata": {},
   "outputs": [
    {
     "data": {
      "text/plain": [
       "98"
      ]
     },
     "execution_count": 23,
     "metadata": {},
     "output_type": "execute_result"
    }
   ],
   "source": [
    "# There are this many commands:\n",
    "len(all_cmds)"
   ]
  }
 ],
 "metadata": {
  "kernelspec": {
   "display_name": "Python 3",
   "language": "python",
   "name": "python3"
  },
  "language_info": {
   "codemirror_mode": {
    "name": "ipython",
    "version": 3
   },
   "file_extension": ".py",
   "mimetype": "text/x-python",
   "name": "python",
   "nbconvert_exporter": "python",
   "pygments_lexer": "ipython3",
   "version": "3.9.2"
  }
 },
 "nbformat": 4,
 "nbformat_minor": 4
}
