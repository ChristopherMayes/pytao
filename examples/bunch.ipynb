{
 "cells": [
  {
   "cell_type": "markdown",
   "metadata": {},
   "source": [
    "# Bunch commands for pyTao"
   ]
  },
  {
   "cell_type": "code",
   "execution_count": 1,
   "metadata": {},
   "outputs": [
    {
     "name": "stdout",
     "output_type": "stream",
     "text": [
      "Populating the interactive namespace from numpy and matplotlib\n"
     ]
    }
   ],
   "source": [
    "# Useful for debugging\n",
    "%load_ext autoreload\n",
    "%autoreload 2\n",
    "\n",
    "%pylab --no-import-all inline\n",
    "%config InlineBackend.figure_format = 'retina'"
   ]
  },
  {
   "cell_type": "code",
   "execution_count": 2,
   "metadata": {},
   "outputs": [],
   "source": [
    "from pytao import Tao"
   ]
  },
  {
   "cell_type": "markdown",
   "metadata": {},
   "source": [
    "# Initialize Tao on the CSR beam tracking example"
   ]
  },
  {
   "cell_type": "code",
   "execution_count": 6,
   "metadata": {},
   "outputs": [],
   "source": [
    "tao=Tao('-init $ACC_ROOT_DIR/tao/examples/csr_beam_tracking/tao.init -noplot')   "
   ]
  },
  {
   "cell_type": "code",
   "execution_count": null,
   "metadata": {},
   "outputs": [],
   "source": [
    "__x = 1\n",
    "\n",
    "class A:\n",
    "    \n",
    "    __\n",
    "    \n",
    "    print(__x)\n",
    "    \n",
    "    def __x(self):\n",
    "        print('here')"
   ]
  },
  {
   "cell_type": "markdown",
   "metadata": {},
   "source": [
    "## bunch1"
   ]
  },
  {
   "cell_type": "code",
   "execution_count": null,
   "metadata": {},
   "outputs": [],
   "source": [
    "?tao.bunch1"
   ]
  },
  {
   "cell_type": "code",
   "execution_count": null,
   "metadata": {},
   "outputs": [],
   "source": [
    "# The beam is saved at the end. \n",
    "stats = tao.bunch1('end')\n",
    "stats.keys()"
   ]
  },
  {
   "cell_type": "code",
   "execution_count": null,
   "metadata": {},
   "outputs": [],
   "source": [
    "bdata['beam_saved']"
   ]
  },
  {
   "cell_type": "code",
   "execution_count": null,
   "metadata": {},
   "outputs": [],
   "source": []
  },
  {
   "cell_type": "code",
   "execution_count": null,
   "metadata": {},
   "outputs": [],
   "source": [
    "tao.bunch1('end', coordinate='state')"
   ]
  },
  {
   "cell_type": "code",
   "execution_count": null,
   "metadata": {},
   "outputs": [],
   "source": [
    "xdat = tao.cmd_real('python bunch1 1@0>>8|model 1 x')\n",
    "pxdat = tao.cmd_real('python bunch1 1@0>>8|model 1 px')\n",
    "ydat = tao.cmd_real('python bunch1 1@0>>8|model 1 y')\n",
    "pydat = tao.cmd_real('python bunch1 1@0>>8|model 1 py')\n",
    "zdat = tao.cmd_real('python bunch1 1@0>>8|model 1 z')\n",
    "pzdat = tao.cmd_real('python bunch1 1@0>>8|model 1 pz')\n",
    "chargedat = tao.cmd_real('python bunch1 1@0>>8|model 1 charge')\n",
    "p0cdat = tao.cmd_real('python bunch1 1@0>>8|model 1 p0c')\n",
    "state = tao.cmd_integer('python bunch1 1@0>>8|model 1 state') # integers\n",
    "# Unique p0C (eV), charge (pC)\n",
    "set(p0cdat), sum(chargedat)*1e12"
   ]
  },
  {
   "cell_type": "markdown",
   "metadata": {},
   "source": [
    "## Plot in matplotlib"
   ]
  },
  {
   "cell_type": "code",
   "execution_count": null,
   "metadata": {},
   "outputs": [],
   "source": [
    "import matplotlib.pyplot as plt\n",
    "%matplotlib inline"
   ]
  },
  {
   "cell_type": "code",
   "execution_count": null,
   "metadata": {},
   "outputs": [],
   "source": [
    "xdata = 1000*xdat\n",
    "ydata = 1000*pxdat\n",
    "weights = chargedat"
   ]
  },
  {
   "cell_type": "code",
   "execution_count": null,
   "metadata": {},
   "outputs": [],
   "source": [
    "# hist2d\n",
    "\n",
    "mycmap = plt.get_cmap('plasma') # viridis plasma inferno magma and _r versions\n",
    "mycmap.set_under(color='white') # map 0 to this color\n",
    "myvmin = 1e-30 # something tiny\n",
    "# Bin particles\n",
    "plt.hist2d(x=1000*xdata, y=ydata,  bins=2*[40], weights=weights, cmap=mycmap, vmin=myvmin)\n",
    "plt.xlabel('x (mm)')\n",
    "plt.ylabel('px (mrad)')\n",
    "plt.show()"
   ]
  },
  {
   "cell_type": "code",
   "execution_count": null,
   "metadata": {},
   "outputs": [],
   "source": [
    "# Numpy histogram 2d, with custom color map\n",
    "\n",
    "import matplotlib.colors as colors\n",
    "\n",
    "mycmap = plt.get_cmap('viridis') # viridis plasma inferno magma and _r versions\n",
    "mycmap.set_under(color='white') # map 0 to this color\n",
    "H, xedges, yedges = np.histogram2d(xdata, ydata, weights=chargedat, bins=40)\n",
    "\n",
    "xmin, xmax = min(xedges), max(xedges)\n",
    "ymin, ymax = min(yedges), max(yedges)\n",
    "\n",
    "image = np.flip(H.T, axis=0) # \n",
    "imax = np.max(image)\n",
    "norm=colors.Normalize(vmin=1e-12*imax, vmax=imax)\n",
    "plt.xlabel('x (mm)')\n",
    "plt.ylabel('px (mrad)')\n",
    "plt.imshow(image, cmap=mycmap, norm=norm, extent=[xmin, xmax, ymin, ymax], aspect='auto')"
   ]
  },
  {
   "cell_type": "code",
   "execution_count": null,
   "metadata": {},
   "outputs": [],
   "source": [
    "np.min(image), np.max(image)"
   ]
  },
  {
   "cell_type": "markdown",
   "metadata": {},
   "source": [
    "## Plot in Bokeh"
   ]
  },
  {
   "cell_type": "code",
   "execution_count": null,
   "metadata": {},
   "outputs": [],
   "source": [
    "from bokeh.plotting import figure, show, output_notebook\n",
    "from bokeh import palettes, colors\n",
    "from bokeh.models import ColumnDataSource, HoverTool\n",
    "output_notebook(verbose=False, hide_banner=True)\n",
    "\n",
    "pal = palettes.Viridis[256]\n",
    "#white=colors.named.white\n",
    "#pal[0] = white # replace 0 with white"
   ]
  },
  {
   "cell_type": "code",
   "execution_count": null,
   "metadata": {},
   "outputs": [],
   "source": [
    "H, xedges, yedges = np.histogram2d(xdata, ydata, weights=chargedat, bins=40)\n",
    "xmin, xmax = min(xedges), max(xedges)\n",
    "ymin, ymax = min(yedges), max(yedges)"
   ]
  },
  {
   "cell_type": "code",
   "execution_count": null,
   "metadata": {},
   "outputs": [],
   "source": [
    "ds = ColumnDataSource(data=dict(image=[H.transpose()]))   \n",
    "p = figure(x_range=[xmin, xmax], y_range=[ymin, ymax], title='Bunch at end', \n",
    "           x_axis_label='z (mm)', y_axis_label='pz (1e-3)',\n",
    "           plot_width=500, plot_height=500)\n",
    "p.image(image='image', source=ds, \n",
    "    x=xmin, y=ymin, dw=xmax-xmin, dh=ymax-ymin, palette=pal)\n",
    "show(p)"
   ]
  },
  {
   "cell_type": "markdown",
   "metadata": {},
   "source": [
    "## Data for ParticleGroup\n",
    "\n",
    "The above commands have been packaged into two functions for easier use, and to easily create ParticleGroup objects"
   ]
  },
  {
   "cell_type": "code",
   "execution_count": null,
   "metadata": {},
   "outputs": [],
   "source": [
    "from pytao.tao_ctypes.bunch import get_bunch_stats, get_bunch_data"
   ]
  },
  {
   "cell_type": "code",
   "execution_count": null,
   "metadata": {},
   "outputs": [],
   "source": [
    "# Get typical stats\n",
    "stats = get_bunch_stats(tao, 'end')\n",
    "stats"
   ]
  },
  {
   "cell_type": "code",
   "execution_count": null,
   "metadata": {},
   "outputs": [],
   "source": [
    "# Get data\n",
    "data = get_bunch_data(tao, 'end')    \n",
    "data.keys()"
   ]
  },
  {
   "cell_type": "code",
   "execution_count": null,
   "metadata": {},
   "outputs": [],
   "source": [
    "from pmd_beamphysics import ParticleGroup\n",
    "\n",
    "P = ParticleGroup(data=data)\n",
    "P"
   ]
  },
  {
   "cell_type": "code",
   "execution_count": null,
   "metadata": {},
   "outputs": [],
   "source": [
    "P.plot('x', 'px')"
   ]
  },
  {
   "cell_type": "code",
   "execution_count": null,
   "metadata": {},
   "outputs": [],
   "source": [
    "# Note the z is 0 by definition\n",
    "P['mean_z']"
   ]
  },
  {
   "cell_type": "code",
   "execution_count": null,
   "metadata": {},
   "outputs": [],
   "source": [
    "# t it the total time\n",
    "P['mean_t']*P['mean_beta']*299792458, stats['s']"
   ]
  },
  {
   "cell_type": "code",
   "execution_count": null,
   "metadata": {},
   "outputs": [],
   "source": [
    "P['norm_emit_x'], P['norm_emit_y']"
   ]
  },
  {
   "cell_type": "code",
   "execution_count": null,
   "metadata": {},
   "outputs": [],
   "source": [
    "stats['norm_emit_x'], stats['norm_emit_y']"
   ]
  },
  {
   "cell_type": "code",
   "execution_count": null,
   "metadata": {},
   "outputs": [],
   "source": []
  }
 ],
 "metadata": {
  "kernelspec": {
   "display_name": "Python 3",
   "language": "python",
   "name": "python3"
  },
  "language_info": {
   "codemirror_mode": {
    "name": "ipython",
    "version": 3
   },
   "file_extension": ".py",
   "mimetype": "text/x-python",
   "name": "python",
   "nbconvert_exporter": "python",
   "pygments_lexer": "ipython3",
   "version": "3.9.2"
  }
 },
 "nbformat": 4,
 "nbformat_minor": 4
}
